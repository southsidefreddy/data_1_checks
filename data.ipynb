{
 "cells": [
  {
   "cell_type": "code",
   "execution_count": 1,
   "metadata": {},
   "outputs": [],
   "source": [
    "# import libraries\n",
    "\n",
    "import pandas as pd\n",
    "import requests as re"
   ]
  },
  {
   "cell_type": "code",
   "execution_count": 2,
   "metadata": {},
   "outputs": [],
   "source": [
    "# read in API data\n",
    "\n",
    "url = \"http://universities.hipolabs.com/search?country=United+States\"\n",
    "r = re.get(url)\n",
    "\n"
   ]
  },
  {
   "cell_type": "code",
   "execution_count": 3,
   "metadata": {},
   "outputs": [
    {
     "name": "stdout",
     "output_type": "stream",
     "text": [
      "<class 'list'>\n"
     ]
    }
   ],
   "source": [
    "\n",
    "\n",
    "print(type(r.json())) \n"
   ]
  },
  {
   "cell_type": "code",
   "execution_count": 4,
   "metadata": {},
   "outputs": [
    {
     "name": "stdout",
     "output_type": "stream",
     "text": [
      "         country alpha_two_code                                   name  \\\n",
      "0  United States             US                    Marywood University   \n",
      "1  United States             US                  Lindenwood University   \n",
      "2  United States             US                    Sullivan University   \n",
      "3  United States             US  Florida State College at Jacksonville   \n",
      "4  United States             US                      Xavier University   \n",
      "\n",
      "  state-province           domains                     web_pages  \n",
      "0           None    [marywood.edu]     [http://www.marywood.edu]  \n",
      "1           None  [lindenwood.edu]  [http://www.lindenwood.edu/]  \n",
      "2           None    [sullivan.edu]       [https://sullivan.edu/]  \n",
      "3           None        [fscj.edu]       [https://www.fscj.edu/]  \n",
      "4           None      [xavier.edu]     [https://www.xavier.edu/]  \n"
     ]
    }
   ],
   "source": [
    "# print the dataframe\n",
    "\n",
    "df = pd.json_normalize(r.json())\n",
    "print(df.head(5))"
   ]
  },
  {
   "cell_type": "code",
   "execution_count": 5,
   "metadata": {},
   "outputs": [
    {
     "name": "stdout",
     "output_type": "stream",
     "text": [
      "<class 'pandas.core.frame.DataFrame'>\n",
      "RangeIndex: 4566 entries, 0 to 4565\n",
      "Data columns (total 6 columns):\n",
      " #   Column          Non-Null Count  Dtype \n",
      "---  ------          --------------  ----- \n",
      " 0   country         4566 non-null   object\n",
      " 1   alpha_two_code  4566 non-null   object\n",
      " 2   name            4566 non-null   object\n",
      " 3   state-province  124 non-null    object\n",
      " 4   domains         4566 non-null   object\n",
      " 5   web_pages       4566 non-null   object\n",
      "dtypes: object(6)\n",
      "memory usage: 214.2+ KB\n"
     ]
    }
   ],
   "source": [
    "# check the data types\n",
    "\n",
    "df.info()"
   ]
  },
  {
   "cell_type": "code",
   "execution_count": 6,
   "metadata": {},
   "outputs": [
    {
     "name": "stdout",
     "output_type": "stream",
     "text": [
      "[None 'Pennsylvania' 'NV' 'Iowa' 'VA' 'TX' 'Colorado' 'IN' 'CA'\n",
      " 'South Carolina' 'Washington' 'NY' 'Texas' 'ND' 'MI' 'Ohio' 'Florida'\n",
      " 'California' 'North Carolina' 'Michigan' 'GA' 'New York, NY']\n",
      "21\n"
     ]
    }
   ],
   "source": [
    "# find how many different values are in the state-province column\n",
    "\n",
    "print(df['state-province'].unique())\n",
    "print(df['state-province'].nunique())\n",
    "\n",
    "\n",
    "\n",
    "\n",
    "\n"
   ]
  },
  {
   "cell_type": "code",
   "execution_count": 7,
   "metadata": {},
   "outputs": [
    {
     "data": {
      "text/plain": [
       "4442"
      ]
     },
     "execution_count": 7,
     "metadata": {},
     "output_type": "execute_result"
    }
   ],
   "source": [
    "# count null values of state-province column\n",
    "\n",
    "df['state-province'].isna().sum()\n"
   ]
  },
  {
   "cell_type": "code",
   "execution_count": 8,
   "metadata": {},
   "outputs": [
    {
     "data": {
      "text/html": [
       "<div>\n",
       "<style scoped>\n",
       "    .dataframe tbody tr th:only-of-type {\n",
       "        vertical-align: middle;\n",
       "    }\n",
       "\n",
       "    .dataframe tbody tr th {\n",
       "        vertical-align: top;\n",
       "    }\n",
       "\n",
       "    .dataframe thead th {\n",
       "        text-align: right;\n",
       "    }\n",
       "</style>\n",
       "<table border=\"1\" class=\"dataframe\">\n",
       "  <thead>\n",
       "    <tr style=\"text-align: right;\">\n",
       "      <th></th>\n",
       "      <th>country</th>\n",
       "      <th>alpha_two_code</th>\n",
       "      <th>name</th>\n",
       "      <th>state-province</th>\n",
       "      <th>domains</th>\n",
       "      <th>web_pages</th>\n",
       "    </tr>\n",
       "  </thead>\n",
       "  <tbody>\n",
       "    <tr>\n",
       "      <th>2185</th>\n",
       "      <td>United States</td>\n",
       "      <td>US</td>\n",
       "      <td>Academy of Art University</td>\n",
       "      <td>California</td>\n",
       "      <td>[academyart.edu, art.edu]</td>\n",
       "      <td>[https://www.academyart.edu/]</td>\n",
       "    </tr>\n",
       "    <tr>\n",
       "      <th>4468</th>\n",
       "      <td>United States</td>\n",
       "      <td>US</td>\n",
       "      <td>Academy of Art University</td>\n",
       "      <td>California</td>\n",
       "      <td>[academyart.edu, art.edu]</td>\n",
       "      <td>[https://www.academyart.edu/]</td>\n",
       "    </tr>\n",
       "  </tbody>\n",
       "</table>\n",
       "</div>"
      ],
      "text/plain": [
       "            country alpha_two_code                       name state-province  \\\n",
       "2185  United States             US  Academy of Art University     California   \n",
       "4468  United States             US  Academy of Art University     California   \n",
       "\n",
       "                        domains                      web_pages  \n",
       "2185  [academyart.edu, art.edu]  [https://www.academyart.edu/]  \n",
       "4468  [academyart.edu, art.edu]  [https://www.academyart.edu/]  "
      ]
     },
     "execution_count": 8,
     "metadata": {},
     "output_type": "execute_result"
    }
   ],
   "source": [
    "# query the data and print rows where the 'state-province' column equals California\n",
    "\n",
    "df.query(\"`state-province` == 'California'\")\n",
    "\n"
   ]
  },
  {
   "cell_type": "code",
   "execution_count": 16,
   "metadata": {},
   "outputs": [
    {
     "name": "stdout",
     "output_type": "stream",
     "text": [
      "                                       name state-province\n",
      "0                       Marywood University           None\n",
      "1                     Lindenwood University           None\n",
      "2                       Sullivan University           None\n",
      "3     Florida State College at Jacksonville           None\n",
      "4                         Xavier University           None\n",
      "...                                     ...            ...\n",
      "4561         West Virginia State University           None\n",
      "4562                          Wiley College           None\n",
      "4563         Winston-Salem State University           None\n",
      "4564                          Unity College           None\n",
      "4565                        Catawba College           None\n",
      "\n",
      "[4566 rows x 2 columns]\n"
     ]
    }
   ],
   "source": [
    "# print 2nd and 3rd columns of the dataframe\n",
    "\n",
    "\n",
    "\n",
    "newdf = df[df.columns[2:4]]\n",
    "print(newdf)"
   ]
  },
  {
   "cell_type": "code",
   "execution_count": 17,
   "metadata": {},
   "outputs": [
    {
     "name": "stdout",
     "output_type": "stream",
     "text": [
      "         country alpha_two_code                                   name  \\\n",
      "0  United States             US                    Marywood University   \n",
      "1  United States             US                  Lindenwood University   \n",
      "2  United States             US                    Sullivan University   \n",
      "3  United States             US  Florida State College at Jacksonville   \n",
      "\n",
      "  state-province           domains                     web_pages  \n",
      "0           None    [marywood.edu]     [http://www.marywood.edu]  \n",
      "1           None  [lindenwood.edu]  [http://www.lindenwood.edu/]  \n",
      "2           None    [sullivan.edu]       [https://sullivan.edu/]  \n",
      "3           None        [fscj.edu]       [https://www.fscj.edu/]  \n"
     ]
    }
   ],
   "source": [
    "# print the first four rows\n",
    "\n",
    "print(df.head(4))"
   ]
  }
 ],
 "metadata": {
  "kernelspec": {
   "display_name": "venv",
   "language": "python",
   "name": "python3"
  },
  "language_info": {
   "codemirror_mode": {
    "name": "ipython",
    "version": 3
   },
   "file_extension": ".py",
   "mimetype": "text/x-python",
   "name": "python",
   "nbconvert_exporter": "python",
   "pygments_lexer": "ipython3",
   "version": "3.10.11"
  },
  "orig_nbformat": 4
 },
 "nbformat": 4,
 "nbformat_minor": 2
}
