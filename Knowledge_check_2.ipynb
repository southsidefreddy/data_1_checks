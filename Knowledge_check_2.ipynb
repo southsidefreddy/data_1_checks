{
 "cells": [
  {
   "cell_type": "code",
   "execution_count": 36,
   "metadata": {},
   "outputs": [],
   "source": [
    "# import libraries\n",
    "\n",
    "import pandas as pd\n",
    "import numpy as np"
   ]
  },
  {
   "cell_type": "code",
   "execution_count": 29,
   "metadata": {},
   "outputs": [],
   "source": [
    "# read in data\n",
    "\n",
    "df = pd.read_csv('coffee.csv')"
   ]
  },
  {
   "cell_type": "code",
   "execution_count": 34,
   "metadata": {},
   "outputs": [
    {
     "name": "stdout",
     "output_type": "stream",
     "text": [
      "            Date    Open    High     Low   Close  Volume Currency\n",
      "5741  2022-08-29  240.55  240.55  240.55  240.50       1      USD\n",
      "5742  2022-08-30  238.75  241.75  238.75  239.15      14      USD\n",
      "5743  2022-08-31  240.75  240.75  239.65  239.10      12      USD\n",
      "5744  2022-09-01  238.55  238.55  236.60  236.35       6      USD\n",
      "5745  2022-09-02  232.50  234.05  228.28  228.42       0      USD\n"
     ]
    }
   ],
   "source": [
    "# print dataframe tail\n",
    "\n",
    "print(df.tail(5))"
   ]
  },
  {
   "cell_type": "code",
   "execution_count": 35,
   "metadata": {},
   "outputs": [
    {
     "data": {
      "text/html": [
       "<div>\n",
       "<style scoped>\n",
       "    .dataframe tbody tr th:only-of-type {\n",
       "        vertical-align: middle;\n",
       "    }\n",
       "\n",
       "    .dataframe tbody tr th {\n",
       "        vertical-align: top;\n",
       "    }\n",
       "\n",
       "    .dataframe thead th {\n",
       "        text-align: right;\n",
       "    }\n",
       "</style>\n",
       "<table border=\"1\" class=\"dataframe\">\n",
       "  <thead>\n",
       "    <tr style=\"text-align: right;\">\n",
       "      <th></th>\n",
       "      <th>Date</th>\n",
       "      <th>Open</th>\n",
       "      <th>High</th>\n",
       "      <th>Low</th>\n",
       "      <th>Close</th>\n",
       "      <th>Volume</th>\n",
       "      <th>Currency</th>\n",
       "    </tr>\n",
       "  </thead>\n",
       "  <tbody>\n",
       "    <tr>\n",
       "      <th>0</th>\n",
       "      <td>2000-01-03</td>\n",
       "      <td>122.25</td>\n",
       "      <td>124.00</td>\n",
       "      <td>116.10</td>\n",
       "      <td>116.50</td>\n",
       "      <td>6640</td>\n",
       "      <td>USD</td>\n",
       "    </tr>\n",
       "    <tr>\n",
       "      <th>1</th>\n",
       "      <td>2000-01-04</td>\n",
       "      <td>116.25</td>\n",
       "      <td>120.50</td>\n",
       "      <td>115.75</td>\n",
       "      <td>116.25</td>\n",
       "      <td>5492</td>\n",
       "      <td>USD</td>\n",
       "    </tr>\n",
       "    <tr>\n",
       "      <th>2</th>\n",
       "      <td>2000-01-05</td>\n",
       "      <td>115.00</td>\n",
       "      <td>121.00</td>\n",
       "      <td>115.00</td>\n",
       "      <td>118.60</td>\n",
       "      <td>6165</td>\n",
       "      <td>USD</td>\n",
       "    </tr>\n",
       "    <tr>\n",
       "      <th>3</th>\n",
       "      <td>2000-01-06</td>\n",
       "      <td>119.00</td>\n",
       "      <td>121.40</td>\n",
       "      <td>116.50</td>\n",
       "      <td>116.85</td>\n",
       "      <td>5094</td>\n",
       "      <td>USD</td>\n",
       "    </tr>\n",
       "    <tr>\n",
       "      <th>4</th>\n",
       "      <td>2000-01-07</td>\n",
       "      <td>117.25</td>\n",
       "      <td>117.75</td>\n",
       "      <td>113.80</td>\n",
       "      <td>114.15</td>\n",
       "      <td>6855</td>\n",
       "      <td>USD</td>\n",
       "    </tr>\n",
       "  </tbody>\n",
       "</table>\n",
       "</div>"
      ],
      "text/plain": [
       "         Date    Open    High     Low   Close  Volume Currency\n",
       "0  2000-01-03  122.25  124.00  116.10  116.50    6640      USD\n",
       "1  2000-01-04  116.25  120.50  115.75  116.25    5492      USD\n",
       "2  2000-01-05  115.00  121.00  115.00  118.60    6165      USD\n",
       "3  2000-01-06  119.00  121.40  116.50  116.85    5094      USD\n",
       "4  2000-01-07  117.25  117.75  113.80  114.15    6855      USD"
      ]
     },
     "execution_count": 35,
     "metadata": {},
     "output_type": "execute_result"
    }
   ],
   "source": [
    "# print dataframe head\n",
    "\n",
    "df.head()"
   ]
  },
  {
   "cell_type": "code",
   "execution_count": 31,
   "metadata": {},
   "outputs": [
    {
     "data": {
      "text/plain": [
       "(5746, 7)"
      ]
     },
     "execution_count": 31,
     "metadata": {},
     "output_type": "execute_result"
    }
   ],
   "source": [
    "# print dataframe shape\n",
    "\n",
    "df.shape"
   ]
  },
  {
   "cell_type": "code",
   "execution_count": 32,
   "metadata": {},
   "outputs": [
    {
     "data": {
      "text/plain": [
       "Index(['Date', 'Open', 'High', 'Low', 'Close', 'Volume', 'Currency'], dtype='object')"
      ]
     },
     "execution_count": 32,
     "metadata": {},
     "output_type": "execute_result"
    }
   ],
   "source": [
    "# print dataframe columns\n",
    "\n",
    "df.columns"
   ]
  },
  {
   "cell_type": "code",
   "execution_count": 40,
   "metadata": {},
   "outputs": [
    {
     "data": {
      "text/plain": [
       "<bound method DataFrame.info of             Date    Open    High     Low   Close  Volume Currency\n",
       "0     2000-01-03  122.25  124.00  116.10  116.50    6640      USD\n",
       "1     2000-01-04  116.25  120.50  115.75  116.25    5492      USD\n",
       "2     2000-01-05  115.00  121.00  115.00  118.60    6165      USD\n",
       "3     2000-01-06  119.00  121.40  116.50  116.85    5094      USD\n",
       "4     2000-01-07  117.25  117.75  113.80  114.15    6855      USD\n",
       "...          ...     ...     ...     ...     ...     ...      ...\n",
       "5741  2022-08-29  240.55  240.55  240.55  240.50       1      USD\n",
       "5742  2022-08-30  238.75  241.75  238.75  239.15      14      USD\n",
       "5743  2022-08-31  240.75  240.75  239.65  239.10      12      USD\n",
       "5744  2022-09-01  238.55  238.55  236.60  236.35       6      USD\n",
       "5745  2022-09-02  232.50  234.05  228.28  228.42       0      USD\n",
       "\n",
       "[5746 rows x 7 columns]>"
      ]
     },
     "execution_count": 40,
     "metadata": {},
     "output_type": "execute_result"
    }
   ],
   "source": [
    "# dataframe info\n",
    "\n",
    "df.info\n"
   ]
  },
  {
   "cell_type": "markdown",
   "metadata": {},
   "source": [
    "I want to change the order of the dataframe so that the dates are in descending order instead of ascending order."
   ]
  },
  {
   "cell_type": "code",
   "execution_count": 42,
   "metadata": {},
   "outputs": [
    {
     "data": {
      "text/html": [
       "<div>\n",
       "<style scoped>\n",
       "    .dataframe tbody tr th:only-of-type {\n",
       "        vertical-align: middle;\n",
       "    }\n",
       "\n",
       "    .dataframe tbody tr th {\n",
       "        vertical-align: top;\n",
       "    }\n",
       "\n",
       "    .dataframe thead th {\n",
       "        text-align: right;\n",
       "    }\n",
       "</style>\n",
       "<table border=\"1\" class=\"dataframe\">\n",
       "  <thead>\n",
       "    <tr style=\"text-align: right;\">\n",
       "      <th></th>\n",
       "      <th>Date</th>\n",
       "      <th>Open</th>\n",
       "      <th>High</th>\n",
       "      <th>Low</th>\n",
       "      <th>Close</th>\n",
       "      <th>Volume</th>\n",
       "      <th>Currency</th>\n",
       "    </tr>\n",
       "  </thead>\n",
       "  <tbody>\n",
       "    <tr>\n",
       "      <th>5745</th>\n",
       "      <td>2022-09-02</td>\n",
       "      <td>232.50</td>\n",
       "      <td>234.05</td>\n",
       "      <td>228.28</td>\n",
       "      <td>228.42</td>\n",
       "      <td>0</td>\n",
       "      <td>USD</td>\n",
       "    </tr>\n",
       "    <tr>\n",
       "      <th>5744</th>\n",
       "      <td>2022-09-01</td>\n",
       "      <td>238.55</td>\n",
       "      <td>238.55</td>\n",
       "      <td>236.60</td>\n",
       "      <td>236.35</td>\n",
       "      <td>6</td>\n",
       "      <td>USD</td>\n",
       "    </tr>\n",
       "    <tr>\n",
       "      <th>5743</th>\n",
       "      <td>2022-08-31</td>\n",
       "      <td>240.75</td>\n",
       "      <td>240.75</td>\n",
       "      <td>239.65</td>\n",
       "      <td>239.10</td>\n",
       "      <td>12</td>\n",
       "      <td>USD</td>\n",
       "    </tr>\n",
       "    <tr>\n",
       "      <th>5742</th>\n",
       "      <td>2022-08-30</td>\n",
       "      <td>238.75</td>\n",
       "      <td>241.75</td>\n",
       "      <td>238.75</td>\n",
       "      <td>239.15</td>\n",
       "      <td>14</td>\n",
       "      <td>USD</td>\n",
       "    </tr>\n",
       "    <tr>\n",
       "      <th>5741</th>\n",
       "      <td>2022-08-29</td>\n",
       "      <td>240.55</td>\n",
       "      <td>240.55</td>\n",
       "      <td>240.55</td>\n",
       "      <td>240.50</td>\n",
       "      <td>1</td>\n",
       "      <td>USD</td>\n",
       "    </tr>\n",
       "  </tbody>\n",
       "</table>\n",
       "</div>"
      ],
      "text/plain": [
       "            Date    Open    High     Low   Close  Volume Currency\n",
       "5745  2022-09-02  232.50  234.05  228.28  228.42       0      USD\n",
       "5744  2022-09-01  238.55  238.55  236.60  236.35       6      USD\n",
       "5743  2022-08-31  240.75  240.75  239.65  239.10      12      USD\n",
       "5742  2022-08-30  238.75  241.75  238.75  239.15      14      USD\n",
       "5741  2022-08-29  240.55  240.55  240.55  240.50       1      USD"
      ]
     },
     "execution_count": 42,
     "metadata": {},
     "output_type": "execute_result"
    }
   ],
   "source": [
    "# sort the order of the Date column\n",
    "\n",
    "df = df.sort_values('Date', ascending=False)\n",
    "df.head()"
   ]
  },
  {
   "cell_type": "markdown",
   "metadata": {},
   "source": [
    "I want to remove the Volume column from this dataframe."
   ]
  },
  {
   "cell_type": "code",
   "execution_count": 43,
   "metadata": {},
   "outputs": [
    {
     "data": {
      "text/html": [
       "<div>\n",
       "<style scoped>\n",
       "    .dataframe tbody tr th:only-of-type {\n",
       "        vertical-align: middle;\n",
       "    }\n",
       "\n",
       "    .dataframe tbody tr th {\n",
       "        vertical-align: top;\n",
       "    }\n",
       "\n",
       "    .dataframe thead th {\n",
       "        text-align: right;\n",
       "    }\n",
       "</style>\n",
       "<table border=\"1\" class=\"dataframe\">\n",
       "  <thead>\n",
       "    <tr style=\"text-align: right;\">\n",
       "      <th></th>\n",
       "      <th>Date</th>\n",
       "      <th>Open</th>\n",
       "      <th>High</th>\n",
       "      <th>Low</th>\n",
       "      <th>Close</th>\n",
       "      <th>Currency</th>\n",
       "    </tr>\n",
       "  </thead>\n",
       "  <tbody>\n",
       "    <tr>\n",
       "      <th>5745</th>\n",
       "      <td>2022-09-02</td>\n",
       "      <td>232.50</td>\n",
       "      <td>234.05</td>\n",
       "      <td>228.28</td>\n",
       "      <td>228.42</td>\n",
       "      <td>USD</td>\n",
       "    </tr>\n",
       "    <tr>\n",
       "      <th>5744</th>\n",
       "      <td>2022-09-01</td>\n",
       "      <td>238.55</td>\n",
       "      <td>238.55</td>\n",
       "      <td>236.60</td>\n",
       "      <td>236.35</td>\n",
       "      <td>USD</td>\n",
       "    </tr>\n",
       "    <tr>\n",
       "      <th>5743</th>\n",
       "      <td>2022-08-31</td>\n",
       "      <td>240.75</td>\n",
       "      <td>240.75</td>\n",
       "      <td>239.65</td>\n",
       "      <td>239.10</td>\n",
       "      <td>USD</td>\n",
       "    </tr>\n",
       "    <tr>\n",
       "      <th>5742</th>\n",
       "      <td>2022-08-30</td>\n",
       "      <td>238.75</td>\n",
       "      <td>241.75</td>\n",
       "      <td>238.75</td>\n",
       "      <td>239.15</td>\n",
       "      <td>USD</td>\n",
       "    </tr>\n",
       "    <tr>\n",
       "      <th>5741</th>\n",
       "      <td>2022-08-29</td>\n",
       "      <td>240.55</td>\n",
       "      <td>240.55</td>\n",
       "      <td>240.55</td>\n",
       "      <td>240.50</td>\n",
       "      <td>USD</td>\n",
       "    </tr>\n",
       "    <tr>\n",
       "      <th>...</th>\n",
       "      <td>...</td>\n",
       "      <td>...</td>\n",
       "      <td>...</td>\n",
       "      <td>...</td>\n",
       "      <td>...</td>\n",
       "      <td>...</td>\n",
       "    </tr>\n",
       "    <tr>\n",
       "      <th>4</th>\n",
       "      <td>2000-01-07</td>\n",
       "      <td>117.25</td>\n",
       "      <td>117.75</td>\n",
       "      <td>113.80</td>\n",
       "      <td>114.15</td>\n",
       "      <td>USD</td>\n",
       "    </tr>\n",
       "    <tr>\n",
       "      <th>3</th>\n",
       "      <td>2000-01-06</td>\n",
       "      <td>119.00</td>\n",
       "      <td>121.40</td>\n",
       "      <td>116.50</td>\n",
       "      <td>116.85</td>\n",
       "      <td>USD</td>\n",
       "    </tr>\n",
       "    <tr>\n",
       "      <th>2</th>\n",
       "      <td>2000-01-05</td>\n",
       "      <td>115.00</td>\n",
       "      <td>121.00</td>\n",
       "      <td>115.00</td>\n",
       "      <td>118.60</td>\n",
       "      <td>USD</td>\n",
       "    </tr>\n",
       "    <tr>\n",
       "      <th>1</th>\n",
       "      <td>2000-01-04</td>\n",
       "      <td>116.25</td>\n",
       "      <td>120.50</td>\n",
       "      <td>115.75</td>\n",
       "      <td>116.25</td>\n",
       "      <td>USD</td>\n",
       "    </tr>\n",
       "    <tr>\n",
       "      <th>0</th>\n",
       "      <td>2000-01-03</td>\n",
       "      <td>122.25</td>\n",
       "      <td>124.00</td>\n",
       "      <td>116.10</td>\n",
       "      <td>116.50</td>\n",
       "      <td>USD</td>\n",
       "    </tr>\n",
       "  </tbody>\n",
       "</table>\n",
       "<p>5746 rows × 6 columns</p>\n",
       "</div>"
      ],
      "text/plain": [
       "            Date    Open    High     Low   Close Currency\n",
       "5745  2022-09-02  232.50  234.05  228.28  228.42      USD\n",
       "5744  2022-09-01  238.55  238.55  236.60  236.35      USD\n",
       "5743  2022-08-31  240.75  240.75  239.65  239.10      USD\n",
       "5742  2022-08-30  238.75  241.75  238.75  239.15      USD\n",
       "5741  2022-08-29  240.55  240.55  240.55  240.50      USD\n",
       "...          ...     ...     ...     ...     ...      ...\n",
       "4     2000-01-07  117.25  117.75  113.80  114.15      USD\n",
       "3     2000-01-06  119.00  121.40  116.50  116.85      USD\n",
       "2     2000-01-05  115.00  121.00  115.00  118.60      USD\n",
       "1     2000-01-04  116.25  120.50  115.75  116.25      USD\n",
       "0     2000-01-03  122.25  124.00  116.10  116.50      USD\n",
       "\n",
       "[5746 rows x 6 columns]"
      ]
     },
     "execution_count": 43,
     "metadata": {},
     "output_type": "execute_result"
    }
   ],
   "source": [
    "# remove Volume column\n",
    "\n",
    "df.drop(['Volume'], axis=1)\n"
   ]
  }
 ],
 "metadata": {
  "kernelspec": {
   "display_name": "venv",
   "language": "python",
   "name": "python3"
  },
  "language_info": {
   "codemirror_mode": {
    "name": "ipython",
    "version": 3
   },
   "file_extension": ".py",
   "mimetype": "text/x-python",
   "name": "python",
   "nbconvert_exporter": "python",
   "pygments_lexer": "ipython3",
   "version": "3.10.11"
  },
  "orig_nbformat": 4
 },
 "nbformat": 4,
 "nbformat_minor": 2
}
